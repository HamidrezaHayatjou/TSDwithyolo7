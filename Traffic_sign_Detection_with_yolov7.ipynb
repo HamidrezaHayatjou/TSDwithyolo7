{
  "nbformat": 4,
  "nbformat_minor": 0,
  "metadata": {
    "colab": {
      "provenance": [],
      "gpuType": "T4",
      "authorship_tag": "ABX9TyOlS1CRgFFsr6ebIDBFRcES",
      "include_colab_link": true
    },
    "kernelspec": {
      "name": "python3",
      "display_name": "Python 3"
    },
    "language_info": {
      "name": "python"
    }
  },
  "cells": [
    {
      "cell_type": "markdown",
      "metadata": {
        "id": "view-in-github",
        "colab_type": "text"
      },
      "source": [
        "<a href=\"https://colab.research.google.com/github/HamidrezaHayatjou/TSDwithyolo7/blob/main/Traffic_sign_Detection_with_yolov7.ipynb\" target=\"_parent\"><img src=\"https://colab.research.google.com/assets/colab-badge.svg\" alt=\"Open In Colab\"/></a>"
      ]
    },
    {
      "cell_type": "code",
      "source": [
        "!git clone https://github.com/HamidrezaHayatjou/TSDwithyolo7.git"
      ],
      "metadata": {
        "id": "dG02Qx4xSmR6"
      },
      "execution_count": null,
      "outputs": []
    },
    {
      "cell_type": "code",
      "source": [
        "!git clone https://github.com/HamidrezaHayatjou/datasetforTSD.git"
      ],
      "metadata": {
        "id": "iFAMMnSa89k2"
      },
      "execution_count": null,
      "outputs": []
    },
    {
      "cell_type": "code",
      "source": [
        "cd TSDwithyolo7"
      ],
      "metadata": {
        "colab": {
          "base_uri": "https://localhost:8080/"
        },
        "id": "qIBdulmZsfnm",
        "outputId": "e9af7969-fee4-4ea0-cefc-e68f33f3ea1a"
      },
      "execution_count": null,
      "outputs": [
        {
          "output_type": "stream",
          "name": "stdout",
          "text": [
            "/content/TSDwithyolo7\n"
          ]
        }
      ]
    },
    {
      "cell_type": "code",
      "source": [
        "!wget https://github.com/WongKinYiu/yolov7/releases/download/v0.1/yolov7_training.pt"
      ],
      "metadata": {
        "id": "H7hG8ixIuhMH"
      },
      "execution_count": null,
      "outputs": []
    },
    {
      "cell_type": "code",
      "source": [
        "!pip install -r /content/TSDwithyolo7/requirements.txt\n",
        "!pip install -r /content/TSDwithyolo7/requirements_gpu.txt"
      ],
      "metadata": {
        "id": "0zZDv984soM6"
      },
      "execution_count": null,
      "outputs": []
    },
    {
      "cell_type": "code",
      "source": [
        "!python train.py --workers 8 --device 0 --batch-size 16 --epochs 10 --data data/coco.yaml --img 640 640 --cfg cfg/training/yolov7.yaml --weights 'yolov7_training.pt' --name yolov7-custom --hyp data/hyp.scratch.custom.yaml"
      ],
      "metadata": {
        "id": "Z3Gn1T0_HtPv"
      },
      "execution_count": null,
      "outputs": []
    },
    {
      "cell_type": "code",
      "source": [
        "!python detect.py --weights /content/TSDwithyolo7/runs/train/yolov7-custom/weights/best.pt --conf 0.5 --img-size 640 --source 3.mp4 --no-trace"
      ],
      "metadata": {
        "id": "_D_NW-AzZ8JN"
      },
      "execution_count": null,
      "outputs": []
    }
  ]
}