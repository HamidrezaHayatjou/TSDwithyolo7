{
  "nbformat": 4,
  "nbformat_minor": 0,
  "metadata": {
    "colab": {
      "provenance": [],
      "gpuType": "T4"
    },
    "kernelspec": {
      "name": "python3",
      "display_name": "Python 3"
    },
    "language_info": {
      "name": "python"
    },
    "accelerator": "GPU"
  },
  "cells": [
    {
      "cell_type": "markdown",
      "source": [
        "#####clone repo"
      ],
      "metadata": {
        "id": "Nsi9KX133tx1"
      }
    },
    {
      "cell_type": "code",
      "execution_count": null,
      "metadata": {
        "id": "Y9M0CPYfVm9m"
      },
      "outputs": [],
      "source": [
        "!git clone https://github.com/HamidrezaHayatjou/TSDwithyolo7.git"
      ]
    },
    {
      "cell_type": "code",
      "source": [
        "!git clone https://github.com/HamidrezaHayatjou/datasetforTSD.git"
      ],
      "metadata": {
        "id": "hmHlfz3rVrOk"
      },
      "execution_count": null,
      "outputs": []
    },
    {
      "cell_type": "code",
      "source": [
        "cd TSDwithyolo7"
      ],
      "metadata": {
        "id": "2yB2kZJiVuCM"
      },
      "execution_count": null,
      "outputs": []
    },
    {
      "cell_type": "markdown",
      "source": [
        "#####download .pt file"
      ],
      "metadata": {
        "id": "mk56byK23njx"
      }
    },
    {
      "cell_type": "code",
      "source": [
        "!wget https://github.com/WongKinYiu/yolov7/releases/download/v0.1/yolov7_training.pt"
      ],
      "metadata": {
        "id": "iJVUDtaoVvyg"
      },
      "execution_count": null,
      "outputs": []
    },
    {
      "cell_type": "markdown",
      "source": [
        "#####install requirements"
      ],
      "metadata": {
        "id": "LvgniSdh3hfc"
      }
    },
    {
      "cell_type": "code",
      "source": [
        "!pip install -r /content/TSDwithyolo7/requirements.txt\n",
        "!pip install -r /content/TSDwithyolo7/requirements_gpu.txt"
      ],
      "metadata": {
        "id": "cel7XXZkVxSa"
      },
      "execution_count": null,
      "outputs": []
    },
    {
      "cell_type": "markdown",
      "source": [
        "#####train"
      ],
      "metadata": {
        "id": "ioYTuOFR3cNQ"
      }
    },
    {
      "cell_type": "code",
      "source": [
        "!python train.py --workers 8 --device 0 --batch-size 16 --epochs 50 --data data/coco.yaml --img 640 640 --cfg cfg/training/yolov7.yaml --weights 'yolov7_training.pt' --name yolov7-custom --hyp data/hyp.scratch.custom.yaml"
      ],
      "metadata": {
        "id": "_QvNtAM2Vy7Q"
      },
      "execution_count": null,
      "outputs": []
    },
    {
      "cell_type": "markdown",
      "source": [
        "#####test video file"
      ],
      "metadata": {
        "id": "iNqmiWyU3TIq"
      }
    },
    {
      "cell_type": "code",
      "source": [
        "!python detect.py --weights /content/TSDwithyolo7/runs/train/yolov7-custom/weights/best.pt --conf 0.5 --img-size 640 --source /content/datasetforTSD/test_video.mp4 --no-trace"
      ],
      "metadata": {
        "id": "5WtVE1BZV0vd"
      },
      "execution_count": null,
      "outputs": []
    }
  ]
}